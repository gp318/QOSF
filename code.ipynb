{
  "nbformat": 4,
  "nbformat_minor": 0,
  "metadata": {
    "colab": {
      "name": "code.ipynb",
      "provenance": [],
      "collapsed_sections": [],
      "authorship_tag": "ABX9TyPhK92dz7SIXzde6NymS1qP",
      "include_colab_link": true
    },
    "kernelspec": {
      "name": "python3",
      "display_name": "Python 3"
    }
  },
  "cells": [
    {
      "cell_type": "markdown",
      "metadata": {
        "id": "view-in-github",
        "colab_type": "text"
      },
      "source": [
        "<a href=\"https://colab.research.google.com/github/gp318/QOSF/blob/master/code.ipynb\" target=\"_parent\"><img src=\"https://colab.research.google.com/assets/colab-badge.svg\" alt=\"Open In Colab\"/></a>"
      ]
    },
    {
      "cell_type": "code",
      "metadata": {
        "id": "O-l0Qq2MFCC2"
      },
      "source": [
        "!pip install qiskit"
      ],
      "execution_count": null,
      "outputs": []
    },
    {
      "cell_type": "code",
      "metadata": {
        "id": "X0z1TGuLITfC"
      },
      "source": [
        "pip install git+https://github.com/qiskit-community/qiskit-textbook.git#subdirectory=qiskit-textbook-src"
      ],
      "execution_count": null,
      "outputs": []
    },
    {
      "cell_type": "code",
      "metadata": {
        "id": "ag91gzSPKiyo"
      },
      "source": [
        "from qiskit import *\n",
        "from math import pi\n",
        "import numpy as np\n",
        "from qiskit.visualization import plot_bloch_multivector, plot_histogram\n",
        "from qiskit_textbook.tools import array_to_latex"
      ],
      "execution_count": null,
      "outputs": []
    },
    {
      "cell_type": "code",
      "metadata": {
        "id": "8zSuVkIBKjOa"
      },
      "source": [
        "# X GATE\n",
        "\n",
        "qc = QuantumCircuit(1)\n",
        "qc.rz(pi/2,0)\n",
        "qc.rx(pi,0)\n",
        "qc.rz(pi/2,0)\n",
        "\n",
        "display(qc.draw())\n",
        "statevector_backend = Aer.get_backend('statevector_simulator')\n",
        "final_state = execute(qc,statevector_backend).result().get_statevector()\n",
        "backend = Aer.get_backend('unitary_simulator')\n",
        "unitary = execute(qc,backend).result().get_unitary()\n",
        "array_to_latex(unitary, pretext=\"\\\\text{Circuit = }\\n\")\n",
        "plot_bloch_multivector(final_state)"
      ],
      "execution_count": null,
      "outputs": []
    },
    {
      "cell_type": "code",
      "metadata": {
        "id": "Ghc0Z2L7KjcG"
      },
      "source": [
        "# Y GATE\n",
        "\n",
        "qc = QuantumCircuit(1)\n",
        "\n",
        "qc.rx(pi,0)\n",
        "qc.rz(pi,0)\n",
        "\n",
        "display(qc.draw())\n",
        "statevector_backend = Aer.get_backend('statevector_simulator')\n",
        "final_state = execute(qc,statevector_backend).result().get_statevector()\n",
        "backend = Aer.get_backend('unitary_simulator')\n",
        "unitary = execute(qc,backend).result().get_unitary()\n",
        "array_to_latex(unitary, pretext=\"\\\\text{Circuit = }\\n\")\n",
        "plot_bloch_multivector(final_state)"
      ],
      "execution_count": null,
      "outputs": []
    },
    {
      "cell_type": "code",
      "metadata": {
        "id": "GUxKWgl5K1Rw"
      },
      "source": [
        "# Z GATE\n",
        "\n",
        "qc = QuantumCircuit(1)\n",
        "\n",
        "qc.rx(pi/2,0)\n",
        "qc.rz(pi,0)\n",
        "qc.rx(pi/2,0)\n",
        "\n",
        "display(qc.draw())\n",
        "statevector_backend = Aer.get_backend('statevector_simulator')\n",
        "final_state = execute(qc,statevector_backend).result().get_statevector()\n",
        "backend = Aer.get_backend('unitary_simulator')\n",
        "unitary = execute(qc,backend).result().get_unitary()\n",
        "array_to_latex(unitary, pretext=\"\\\\text{Circuit = }\\n\")\n",
        "plot_bloch_multivector(final_state)"
      ],
      "execution_count": null,
      "outputs": []
    },
    {
      "cell_type": "code",
      "metadata": {
        "id": "Az3x648gK4kP"
      },
      "source": [
        "# I GATE\n",
        "\n",
        "qc = QuantumCircuit(1)\n",
        "\n",
        "qc.rz(0,0)\n",
        "\n",
        "\n",
        "display(qc.draw())\n",
        "statevector_backend = Aer.get_backend('statevector_simulator')\n",
        "final_state = execute(qc,statevector_backend).result().get_statevector()\n",
        "backend = Aer.get_backend('unitary_simulator')\n",
        "unitary = execute(qc,backend).result().get_unitary()\n",
        "array_to_latex(unitary, pretext=\"\\\\text{Circuit = }\\n\")\n",
        "plot_bloch_multivector(final_state)\n"
      ],
      "execution_count": null,
      "outputs": []
    },
    {
      "cell_type": "code",
      "metadata": {
        "id": "7FAgOPn9K8S5"
      },
      "source": [
        "#HADAMARD GATE\n",
        "\n",
        "qc = QuantumCircuit(1)\n",
        "qc.rx(pi/2,0)\n",
        "qc.rz(pi/2,0)\n",
        "qc.rx(pi/2,0)\n",
        "\n",
        "display(qc.draw())\n",
        "statevector_backend = Aer.get_backend('statevector_simulator')\n",
        "final_state = execute(qc,statevector_backend).result().get_statevector()\n",
        "backend = Aer.get_backend('unitary_simulator')\n",
        "unitary = execute(qc,backend).result().get_unitary()\n",
        "array_to_latex(unitary, pretext=\"\\\\text{Circuit = }\\n\")\n",
        "plot_bloch_multivector(final_state)"
      ],
      "execution_count": null,
      "outputs": []
    },
    {
      "cell_type": "code",
      "metadata": {
        "id": "VDpSWuVTK-jE"
      },
      "source": [
        "#CNOT\n",
        "qc = QuantumCircuit(2)\n",
        "\n",
        "qc.rx(pi/2,1)\n",
        "qc.rz(pi/2,1)\n",
        "qc.rx(pi/2,1)\n",
        "qc.cz(0,1)\n",
        "qc.rx(pi/2,1)\n",
        "qc.rz(pi/2,1)\n",
        "qc.rx(pi/2,1)\n",
        "display(qc.draw())\n",
        "\n",
        "\n",
        "statevector_backend = Aer.get_backend('statevector_simulator')\n",
        "final_state = execute(qc,statevector_backend).result().get_statevector()\n",
        "backend = Aer.get_backend('unitary_simulator')\n",
        "unitary = execute(qc,backend).result().get_unitary()\n",
        "array_to_latex(unitary, pretext=\"\\\\text{Circuit = }\\n\")\n",
        "plot_bloch_multivector(final_state)"
      ],
      "execution_count": null,
      "outputs": []
    },
    {
      "cell_type": "code",
      "metadata": {
        "id": "6Hf-JsCHLj10"
      },
      "source": [
        "qc = QuantumCircuit(2)\n",
        "qc.rx(pi,0)\n",
        "qc.ry(pi/2,1)\n",
        "qc.cx(1,0)\n",
        "display(qc.draw())\n",
        "statevector_backend = Aer.get_backend('statevector_simulator')\n",
        "final_state = execute(qc,statevector_backend).result().get_statevector()\n",
        "array_to_latex(final_state, pretext=\"\\\\text{Statevector} = \", precision=1)\n",
        "plot_bloch_multivector(final_state)"
      ],
      "execution_count": null,
      "outputs": []
    },
    {
      "cell_type": "code",
      "metadata": {
        "id": "GAw6E-39L27S"
      },
      "source": [
        "#RX GATE\n",
        "theta = float(input())\n",
        "\n",
        "qc = QuantumCircuit(1)\n",
        "#hadamard\n",
        "qc.rx(pi/2,0)\n",
        "qc.rz(pi/2,0)\n",
        "qc.rx(pi/2,0)  \n",
        "\n",
        "qc.rz(theta,0)\n",
        "#hadamard\n",
        "qc.rx(pi/2,0)\n",
        "qc.rz(pi/2,0)\n",
        "qc.rx(pi/2,0)\n",
        "\n",
        "display(qc.draw())\n",
        "statevector_backend = Aer.get_backend('statevector_simulator')\n",
        "final_state = execute(qc,statevector_backend).result().get_statevector()\n",
        "array_to_latex(final_state, pretext=\"\\\\text{Statevector} = \", precision=1)\n",
        "plot_bloch_multivector(final_state)"
      ],
      "execution_count": null,
      "outputs": []
    },
    {
      "cell_type": "code",
      "metadata": {
        "id": "z3SbH0z22EPa"
      },
      "source": [
        "#RY GATE\n",
        "\n",
        "theta = float(input())\n",
        "qc = QuantumCircuit(1)\n",
        "\n",
        "qc.h(0)\n",
        "qc.rz(pi/2,0)\n",
        "\n",
        "qc.rx(theta,0)\n",
        "\n",
        "qc.rz(-pi/2,0)\n",
        "qc.h(0)\n",
        "\n",
        "display(qc.draw())\n",
        "statevector_backend = Aer.get_backend('statevector_simulator')\n",
        "final_state = execute(qc,statevector_backend).result().get_statevector()\n",
        "array_to_latex(final_state, pretext=\"\\\\text{Statevector} = \", precision=1)\n",
        "plot_bloch_multivector(final_state)"
      ],
      "execution_count": null,
      "outputs": []
    },
    {
      "cell_type": "code",
      "metadata": {
        "id": "aQbXWsrS2H2J"
      },
      "source": [
        "#RZ GATE\n",
        "\n",
        "qc = QuantumCircuit(1)\n",
        "theta = pi/4\n",
        "\n",
        "qc.rx(pi/2,0)\n",
        "qc.ry(-theta,0)\n",
        "qc.rx(-pi/2,0)\n",
        "\n",
        "display(qc.draw())\n",
        "statevector_backend = Aer.get_backend('statevector_simulator')\n",
        "final_state = execute(qc,statevector_backend).result().get_statevector()\n",
        "backend = Aer.get_backend('unitary_simulator')\n",
        "unitary = execute(qc,backend).result().get_unitary()\n",
        "array_to_latex(unitary, pretext=\"\\\\text{Circuit = }\\n\")\n",
        "plot_bloch_multivector(final_state)"
      ],
      "execution_count": null,
      "outputs": []
    },
    {
      "cell_type": "markdown",
      "metadata": {
        "id": "N5JuBW0YdeNW"
      },
      "source": [
        ""
      ]
    },
    {
      "cell_type": "code",
      "metadata": {
        "id": "V_TKfxtsTcOZ"
      },
      "source": [
        "#CZ GATE\n",
        "qc = QuantumCircuit(2)\n",
        "\n",
        "qc.rz(pi/2,0)\n",
        "qc.cz(0,1)\n",
        "qc.rz(-pi/2,0)\n",
        "\n",
        "display(qc.draw())\n",
        "statevector_backend = Aer.get_backend('statevector_simulator')\n",
        "final_state = execute(qc,statevector_backend).result().get_statevector()\n",
        "backend = Aer.get_backend('unitary_simulator')\n",
        "unitary = execute(qc,backend).result().get_unitary()\n",
        "array_to_latex(unitary, pretext=\"\\\\text{Circuit = }\\n\")\n",
        "plot_bloch_multivector(final_state)"
      ],
      "execution_count": null,
      "outputs": []
    }
  ]
}